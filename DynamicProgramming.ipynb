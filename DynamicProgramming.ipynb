{
  "nbformat": 4,
  "nbformat_minor": 0,
  "metadata": {
    "colab": {
      "provenance": [],
      "authorship_tag": "ABX9TyMlxqwlIA3ei98QoXrqn7yx",
      "include_colab_link": true
    },
    "kernelspec": {
      "name": "python3",
      "display_name": "Python 3"
    },
    "language_info": {
      "name": "python"
    }
  },
  "cells": [
    {
      "cell_type": "markdown",
      "metadata": {
        "id": "view-in-github",
        "colab_type": "text"
      },
      "source": [
        "<a href=\"https://colab.research.google.com/github/ksandeep18/Dsa/blob/main/DynamicProgramming.ipynb\" target=\"_parent\"><img src=\"https://colab.research.google.com/assets/colab-badge.svg\" alt=\"Open In Colab\"/></a>"
      ]
    },
    {
      "cell_type": "markdown",
      "source": [
        "Dynamic Programming\n"
      ],
      "metadata": {
        "id": "WrF-u5Ozo3Ce"
      }
    },
    {
      "cell_type": "code",
      "execution_count": null,
      "metadata": {
        "id": "G4hV_veJnnhr"
      },
      "outputs": [],
      "source": [
        "# Dynamic Programming\n",
        "\n",
        "# Core Concepts:\n",
        "\n",
        "# 1. Overlapping Subproblems:\n",
        "#    - A problem can be broken down into smaller subproblems, some of which are repeated multiple times.\n",
        "#    - Dynamic programming excels when these subproblems overlap.\n",
        "#    - Avoid redundant computations by storing the solutions to subproblems and reusing them.\n",
        "\n",
        "# 2. Optimal Substructure:\n",
        "#    - An optimal solution to the problem can be constructed from optimal solutions to its subproblems.\n",
        "#    - This property ensures that if we find optimal solutions for subproblems, combining them will give an optimal solution to the original problem.\n",
        "\n",
        "# Techniques:\n",
        "\n",
        "# 1. Memoization (Top-Down): [recurrsion based approach]\n",
        "#    - Solve the problem recursively.\n",
        "#    - Store the results of subproblems in a cache (e.g., dictionary or array).\n",
        "#    - Before solving a subproblem, check the cache. If the result is present, return it directly. Otherwise, compute it, store it in the cache, and then return it.\n",
        "\n",
        "# 2. Tabulation (Bottom-Up): [loop based approach] + [can be optimized in terms of space]\n",
        "#    - Create a table to store the results of subproblems.\n",
        "#    - Fill the table iteratively, starting with the base cases (smallest subproblems).\n",
        "#    - Use the results of previously solved subproblems to compute the solutions for larger subproblems.\n",
        "\n",
        "# General Steps for Solving a DP Problem:\n",
        "\n",
        "# 1. Identify Overlapping Subproblems:\n",
        "#    - Analyze the problem and look for recursive relationships where the same subproblems are encountered multiple times.\n",
        "\n",
        "# 2. Define the State:\n",
        "#    - Determine the parameters that uniquely define a subproblem (e.g., index, length, capacity).\n",
        "#    - The state is used as keys in the memoization table or indices in the tabulation table.\n",
        "# 3. Formulate the Recurrence Relation:\n",
        "#    - Express the optimal solution for a given state in terms of the optimal solutions to smaller subproblems.\n",
        "#    - This relation defines how the problem's solution is constructed from the solutions to its subproblems.\n",
        "\n",
        "# 4. Identify Base Cases:\n",
        "#    - Define the simplest subproblems with known solutions.\n",
        "#    - These serve as the starting points for both memoization and tabulation.\n",
        "\n",
        "# 5. Choose a Method (Memoization or Tabulation):\n",
        "#    - Memoization is easier to code for problems with complex dependencies between subproblems.\n",
        "#    - Tabulation can sometimes be more efficient because there's no function call overhead.\n",
        "\n",
        "# Example: Fibonacci Numbers (Memoization)\n",
        "def fibonacci_memo(n, memo={}):\n",
        "    if n in memo:\n",
        "        return memo[n]\n",
        "    if n <= 1:\n",
        "        return n\n",
        "    memo[n] = fibonacci_memo(n-1, memo) + fibonacci_memo(n-2, memo)\n",
        "    return memo[n]\n",
        "\n",
        "\n",
        "# Example: Fibonacci Numbers (Tabulation)\n",
        "def fibonacci_tab(n):\n",
        "  fib = [0] * (n + 1)\n",
        "  fib[0] = 0\n",
        "  fib[1] = 1\n",
        "  for i in range(2, n + 1):\n",
        "      fib[i] = fib[i-1] + fib[i-2]\n",
        "  return fib[n]\n",
        "\n",
        "# Example Problem (Knapsack):\n",
        "\n",
        "# Problem: You have a knapsack with a maximum capacity 'W' and a set of items, each with a weight 'w_i' and a value 'v_i'.\n",
        "# Goal: Find the subset of items that maximizes the total value without exceeding the knapsack's capacity.\n",
        "\n",
        "#Advanced Topics:\n",
        "\n",
        "# - Bitmasking (for subset enumeration)\n",
        "# - Digit DP\n",
        "# - Convex Hull Trick\n",
        "# - Knuth Optimization\n",
        "# - Matrix Exponentiation\n",
        "\n",
        "\n"
      ]
    },
    {
      "cell_type": "code",
      "source": [
        "class Solution:\n",
        "    def fib(self, n: int) -> int:\n",
        "        # naive approach\n",
        "        if n==0:\n",
        "           return 0\n",
        "        if n==1:\n",
        "            return 1\n",
        "        return self.fib(n-1)+self.fib(n-2)\n",
        "        # memoization\n",
        "        memo={0:0,1:1}\n",
        "        def f(x):\n",
        "            if x in memo:\n",
        "                return memo[x]\n",
        "            else:\n",
        "                memo[x]=f(x-1)+f(x-2)\n",
        "                return memo[x]\n",
        "        return f(n)\n",
        "        # tabulation\n",
        "        dp=[0]*n\n",
        "        dp[1]=1\n",
        "        for i in range(2,n+1):\n",
        "            dp[i]=dp[i-1]+dp[i-2]\n",
        "        return dp[n]\n",
        "        # space optimized tabulation\n",
        "        prev=0\n",
        "        curr=1\n",
        "\n",
        "        for i in range(2,n+1):\n",
        "            prev,curr=curr,prev+curr\n",
        "        return curr\n"
      ],
      "metadata": {
        "id": "owZoDYlP2zcM"
      },
      "execution_count": null,
      "outputs": []
    },
    {
      "cell_type": "code",
      "source": [],
      "metadata": {
        "id": "SKExneYV3Psh"
      },
      "execution_count": null,
      "outputs": []
    },
    {
      "cell_type": "code",
      "source": [],
      "metadata": {
        "id": "AVF_BDot3Po8"
      },
      "execution_count": null,
      "outputs": []
    },
    {
      "cell_type": "code",
      "source": [],
      "metadata": {
        "id": "6z3iUDKp3PmS"
      },
      "execution_count": null,
      "outputs": []
    },
    {
      "cell_type": "code",
      "source": [],
      "metadata": {
        "id": "fZbOWuBu3PkD"
      },
      "execution_count": null,
      "outputs": []
    },
    {
      "cell_type": "code",
      "source": [],
      "metadata": {
        "id": "o2vPWwVq3PSi"
      },
      "execution_count": null,
      "outputs": []
    }
  ]
}