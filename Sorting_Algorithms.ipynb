{
  "nbformat": 4,
  "nbformat_minor": 0,
  "metadata": {
    "colab": {
      "provenance": [],
      "authorship_tag": "ABX9TyPy/QndVMVI+vF196zEtbYc",
      "include_colab_link": true
    },
    "kernelspec": {
      "name": "python3",
      "display_name": "Python 3"
    },
    "language_info": {
      "name": "python"
    }
  },
  "cells": [
    {
      "cell_type": "markdown",
      "metadata": {
        "id": "view-in-github",
        "colab_type": "text"
      },
      "source": [
        "<a href=\"https://colab.research.google.com/github/ksandeep18/Dsa/blob/main/Sorting_Algorithms.ipynb\" target=\"_parent\"><img src=\"https://colab.research.google.com/assets/colab-badge.svg\" alt=\"Open In Colab\"/></a>"
      ]
    },
    {
      "cell_type": "code",
      "execution_count": null,
      "metadata": {
        "colab": {
          "base_uri": "https://localhost:8080/"
        },
        "id": "BA-qP7m2R7l1",
        "outputId": "5abf5d79-5eb7-496d-d59f-347f071f6cd0"
      },
      "outputs": [
        {
          "output_type": "stream",
          "name": "stdout",
          "text": [
            "[-5, -3, -3, 1, 2, 2, 2, 3, 7]\n"
          ]
        }
      ],
      "source": [
        "A=[-5,3,2,1,-3,-3,7,2,2]\n",
        "\n",
        "def bubble_sort(arr):\n",
        "  n=len(arr)\n",
        "  flag=True\n",
        "  while flag:\n",
        "    flag=False\n",
        "    for i in range(1,n):\n",
        "      if arr[i-1]>arr[i]:\n",
        "        flag=True\n",
        "        arr[i-1],arr[i]=arr[i],arr[i-1]\n",
        "\n",
        "bubble_sort(A)\n",
        "print(A)\n"
      ]
    },
    {
      "cell_type": "code",
      "source": [
        "A = [-5, 3, 2, 1, -3, -3, 7, 2, 2]\n",
        "\n",
        "def insertion_sort(arr):\n",
        "  n=len(arr)\n",
        "  for i in range(1,n,1):\n",
        "    for j in range(i,0,-1):\n",
        "      if arr[j-1]>arr[j]:\n",
        "        arr[j-1],arr[j]=arr[j],arr[j-1]\n",
        "      else:\n",
        "        break\n",
        "insertion_sort(A)\n",
        "A"
      ],
      "metadata": {
        "colab": {
          "base_uri": "https://localhost:8080/"
        },
        "id": "vciQdtGaT_3x",
        "outputId": "c83cbe4c-f94c-40f9-b0b8-e2391a98e72d"
      },
      "execution_count": null,
      "outputs": [
        {
          "output_type": "execute_result",
          "data": {
            "text/plain": [
              "[-5, -3, -3, 1, 2, 2, 2, 3, 7]"
            ]
          },
          "metadata": {},
          "execution_count": 7
        }
      ]
    },
    {
      "cell_type": "code",
      "source": [
        "A = [-5, 3, 2, 1, -3, -3, 7, 2, 2]\n",
        "\n",
        "def selection_sort(arr):\n",
        "  n=len(arr)\n",
        "  for i in range(0,n):\n",
        "    min_idx=i\n",
        "    for j in range(i+1,n):\n",
        "      if arr[j]<arr[min_idx]:\n",
        "        min_idx=j\n",
        "    arr[min_idx],arr[i]=arr[i],arr[min_idx]\n",
        "selection_sort(A)\n",
        "A"
      ],
      "metadata": {
        "colab": {
          "base_uri": "https://localhost:8080/"
        },
        "id": "fuexrsBLV3r0",
        "outputId": "97443961-091e-4ace-872d-77cf5fe0379f"
      },
      "execution_count": null,
      "outputs": [
        {
          "output_type": "execute_result",
          "data": {
            "text/plain": [
              "[-5, -3, -3, 1, 2, 2, 2, 3, 7]"
            ]
          },
          "metadata": {},
          "execution_count": 12
        }
      ]
    },
    {
      "cell_type": "code",
      "source": [
        "# divide the arr into 3 parts --> left, mid (pivot), right\n",
        "# make sure that all the left elements should be less than pivot and right elements should be greater than pivot\n",
        "# problem: how to pick pivot efficiently if not picked leads to worst TC\n",
        "\n",
        "def quick_sort(arr):\n",
        "  n=len(arr)\n",
        "  if n<2:\n",
        "    return arr\n",
        "  p=arr[-1]\n",
        "  l=[x for x in arr[:-1] if x<=p]\n",
        "  r=[x for x in arr[:-1] if x>p]\n",
        "  return quick_sort(l)+[p]+quick_sort(r)\n",
        "\n",
        "quick_sort(A)"
      ],
      "metadata": {
        "colab": {
          "base_uri": "https://localhost:8080/"
        },
        "id": "ODmFhKYTdF3R",
        "outputId": "1952bd37-d617-4fe3-d2e7-44f660ec5b73"
      },
      "execution_count": null,
      "outputs": [
        {
          "output_type": "execute_result",
          "data": {
            "text/plain": [
              "[-5, -3, -3, 1, 2, 2, 2, 3, 7]"
            ]
          },
          "metadata": {},
          "execution_count": 13
        }
      ]
    },
    {
      "cell_type": "code",
      "source": [
        "\n",
        "# prompt: bubble sort code in python\n",
        "\n",
        "def bubble_sort(arr):\n",
        "    n = len(arr)\n",
        "    for i in range(n):\n",
        "        # Flag to optimize - if no swaps occur, the list is sorted\n",
        "        swapped = False\n",
        "        # Last i elements are already in place\n",
        "        for j in range(0, n-i-1):\n",
        "            # Swap if the element found is greater than the next element\n",
        "            if arr[j] > arr[j+1]:\n",
        "                arr[j], arr[j+1] = arr[j+1], arr[j]\n",
        "                swapped = True\n",
        "        # If no two elements were swapped in inner loop, the array is sorted\n",
        "        if not swapped:\n",
        "            break\n"
      ],
      "metadata": {
        "id": "oN3hhNc1SsfR"
      },
      "execution_count": null,
      "outputs": []
    },
    {
      "cell_type": "code",
      "source": [
        "# prompt: code for insertion sort\n",
        "\n",
        "def insertion_sort(arr):\n",
        "    for i in range(1, len(arr)):\n",
        "        key = arr[i]\n",
        "        j = i - 1\n",
        "        while j >= 0 and key < arr[j]:\n",
        "            arr[j + 1] = arr[j]\n",
        "            j -= 1\n",
        "        arr[j + 1] = key\n",
        "\n",
        "A = [-5, 3, 2, 1, -3, -3, 7, 2, 2]\n",
        "insertion_sort(A)\n",
        "A\n"
      ],
      "metadata": {
        "id": "MB0VXSJUT_7I"
      },
      "execution_count": null,
      "outputs": []
    },
    {
      "cell_type": "code",
      "source": [
        "# prompt: mergesort algorithm in py\n",
        "\n",
        "def merge_sort(arr):\n",
        "    if len(arr) > 1:\n",
        "        mid = len(arr) // 2\n",
        "        left_half = arr[:mid]\n",
        "        right_half = arr[mid:]\n",
        "\n",
        "        merge_sort(left_half)\n",
        "        merge_sort(right_half)\n",
        "\n",
        "        i = j = k = 0\n",
        "        while i < len(left_half) and j < len(right_half):\n",
        "            if left_half[i] < right_half[j]:\n",
        "                arr[k] = left_half[i]\n",
        "                i += 1\n",
        "            else:\n",
        "                arr[k] = right_half[j]\n",
        "                j += 1\n",
        "            k += 1\n",
        "\n",
        "        while i < len(left_half):\n",
        "            arr[k] = left_half[i]\n",
        "            i += 1\n",
        "            k += 1\n",
        "\n",
        "        while j < len(right_half):\n",
        "            arr[k] = right_half[j]\n",
        "            j += 1\n",
        "            k += 1\n",
        "\n",
        "A = [-5, 3, 2, 1, -3, -3, 7, 2, 2]\n",
        "merge_sort(A)\n",
        "A\n"
      ],
      "metadata": {
        "id": "ULenJdiLT_0H"
      },
      "execution_count": null,
      "outputs": []
    },
    {
      "cell_type": "code",
      "source": [
        "\n",
        "def quick_sort(arr):\n",
        "    if len(arr) < 2:\n",
        "        return arr\n",
        "    else:\n",
        "        pivot = arr[0]\n",
        "        less = [i for i in arr[1:] if i <= pivot]\n",
        "        greater = [i for i in arr[1:] if i > pivot]\n",
        "        return quick_sort(less) + [pivot] + quick_sort(greater)\n",
        "\n",
        "A = [-5, 3, 2, 1, -3, -3, 7, 2, 2]\n",
        "sorted_A = quick_sort(A)\n",
        "sorted_A\n"
      ],
      "metadata": {
        "id": "wVU7FLlHcwhY"
      },
      "execution_count": null,
      "outputs": []
    },
    {
      "cell_type": "code",
      "source": [
        "def counting_sort(arr):\n",
        "    # Find the minimum and maximum values in the array\n",
        "    min_val = min(arr)\n",
        "    max_val = max(arr)\n",
        "\n",
        "    # Create a counting array to store the frequency of each element\n",
        "    count_arr_size = max_val - min_val + 1\n",
        "    count_arr = [0] * count_arr_size\n",
        "\n",
        "    # Count the occurrences of each element\n",
        "    for num in arr:\n",
        "        count_arr[num - min_val] += 1\n",
        "\n",
        "    # Calculate the cumulative sum of the counting array\n",
        "    for i in range(1, count_arr_size):\n",
        "        count_arr[i] += count_arr[i - 1]\n",
        "\n",
        "    # Create the sorted array\n",
        "    sorted_arr = [0] * len(arr)\n",
        "    for i in range(len(arr) - 1, -1, -1):\n",
        "        sorted_arr[count_arr[arr[i] - min_val] - 1] = arr[i]\n",
        "        count_arr[arr[i] - min_val] -= 1\n",
        "\n",
        "    return sorted_arr\n",
        "\n",
        "A = [-5, 3, 2, 1, -3, -3, 7, 2, 2]\n",
        "sorted_A = counting_sort(A)\n",
        "sorted_A\n"
      ],
      "metadata": {
        "id": "J73dFPxgczou"
      },
      "execution_count": null,
      "outputs": []
    },
    {
      "cell_type": "markdown",
      "source": [
        "Tim Sort is the Algorithm used in python inbuilt function\n",
        "\n",
        "A.sort # means sorts in place\n",
        "\n",
        "Sorted(A) # means return new sorted list"
      ],
      "metadata": {
        "id": "2AQMf9Dvh-x8"
      }
    },
    {
      "cell_type": "code",
      "source": [
        "# prompt: tim sort\n",
        "\n",
        "import random\n",
        "\n",
        "def insertion_sort(array, left=0, right=None):\n",
        "    if right is None:\n",
        "        right = len(array) - 1\n",
        "\n",
        "    for i in range(left + 1, right + 1):\n",
        "        key_item = array[i]\n",
        "        j = i - 1\n",
        "        while j >= left and array[j] > key_item:\n",
        "            array[j + 1] = array[j]\n",
        "            j -= 1\n",
        "        array[j + 1] = key_item\n",
        "    return array\n",
        "\n",
        "def merge(left, right):\n",
        "    if not left:\n",
        "        return right\n",
        "    if not right:\n",
        "        return left\n",
        "    if left[0] < right[0]:\n",
        "        return [left[0]] + merge(left[1:], right)\n",
        "    return [right[0]] + merge(left, right[1:])\n",
        "\n",
        "def timsort(array):\n",
        "    min_run = 32\n",
        "    n = len(array)\n",
        "\n",
        "    for i in range(0, n, min_run):\n",
        "        insertion_sort(array, i, min((i + min_run - 1), n - 1))\n",
        "\n",
        "    size = min_run\n",
        "    while size < n:\n",
        "        for start in range(0, n, size * 2):\n",
        "            midpoint = start + size - 1\n",
        "            end = min((start + size * 2 - 1), (n-1))\n",
        "\n",
        "            merged_array = merge(array[start:midpoint+1], array[midpoint+1:end+1])\n",
        "            array[start:start + len(merged_array)] = merged_array\n",
        "        size *= 2\n",
        "    return array\n",
        "\n",
        "A = [-5, 3, 2, 1, -3, -3, 7, 2, 2]\n",
        "sorted_A = timsort(A)\n",
        "sorted_A\n"
      ],
      "metadata": {
        "id": "LyvlMY_Mhu7-"
      },
      "execution_count": null,
      "outputs": []
    }
  ]
}